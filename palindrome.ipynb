{
 "cells": [
  {
   "cell_type": "code",
   "execution_count": null,
   "id": "f8b9b492-8957-4a14-bcac-ee6c79422be1",
   "metadata": {},
   "outputs": [],
   "source": [
    "#Palindrome Checker\n",
    "\n",
    "#Get user input for a word or phrase\n",
    "text=input(\"Enter a word or a phrase:\").strip().lower()\n",
    "\n",
    "#Remove spaces from the text\n",
    "text=text.replace(\" \",\"\")\n",
    "\n",
    "if text==text[::-1]:\n",
    "    print(\"It is a palindrome.\")\n",
    "else:\n",
    "    print(\"It is not a palindrome.\")\n"
   ]
  },
  {
   "cell_type": "markdown",
   "id": "c783b2a0-4aa8-4b33-a157-ef5a59a1ba87",
   "metadata": {},
   "source": [
    "# Palindrome Checker\r",
    "This codep checks if a given text is a palindrome.\r\n",
    "\r\n",
    "## Usage\r\n",
    "Input any text, and the program will tell you if it's a palindrome.\r\n"
   ]
  },
  {
   "cell_type": "code",
   "execution_count": null,
   "id": "b81f0c60-937c-4d27-b455-7fcec0712086",
   "metadata": {},
   "outputs": [],
   "source": []
  }
 ],
 "metadata": {
  "kernelspec": {
   "display_name": "Python 3 (ipykernel)",
   "language": "python",
   "name": "python3"
  },
  "language_info": {
   "codemirror_mode": {
    "name": "ipython",
    "version": 3
   },
   "file_extension": ".py",
   "mimetype": "text/x-python",
   "name": "python",
   "nbconvert_exporter": "python",
   "pygments_lexer": "ipython3",
   "version": "3.12.4"
  }
 },
 "nbformat": 4,
 "nbformat_minor": 5
}
