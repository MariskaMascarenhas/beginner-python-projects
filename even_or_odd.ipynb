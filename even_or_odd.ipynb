{
 "cells": [
  {
   "cell_type": "code",
   "execution_count": 4,
   "id": "3038b27c-a168-4595-99aa-a738d7a98ba3",
   "metadata": {},
   "outputs": [
    {
     "name": "stdin",
     "output_type": "stream",
     "text": [
      "Enter a number: 5\n"
     ]
    },
    {
     "name": "stdout",
     "output_type": "stream",
     "text": [
      "Odd\n"
     ]
    }
   ],
   "source": [
    "#Odd or Even number checker\n",
    "'''Pseudocode\n",
    "1.Prompts user for a number\n",
    "2.If the number is divisible by 2 printEven\n",
    "3.Else print odd\n",
    "'''\n",
    "\n",
    "number=int(input(\"Enter a number:\"))\n",
    "if number%2==0:\n",
    "    print(\"Even\")\n",
    "else:\n",
    "    print(\"Odd\")\n",
    "        \n"
   ]
  },
  {
   "cell_type": "markdown",
   "id": "5c32db88-5ae8-47b3-958e-7fa27f05bc20",
   "metadata": {},
   "source": [
    "# Odd or Even Number Checker\r\n",
    "\r\n",
    "## Description\r\n",
    "This is a simple Python program to check if a number is odd or even.\r\n",
    "\r\n",
    "## How to Use\r\n",
    "- Run the program.\r\n",
    "- Enter any integer.\r\n",
    "- The program will tell you if it’s even or odd.\r\n",
    "\r\n",
    "## Requirements\r\n",
    "Python 3.x\r\n"
   ]
  }
 ],
 "metadata": {
  "kernelspec": {
   "display_name": "Python 3 (ipykernel)",
   "language": "python",
   "name": "python3"
  },
  "language_info": {
   "codemirror_mode": {
    "name": "ipython",
    "version": 3
   },
   "file_extension": ".py",
   "mimetype": "text/x-python",
   "name": "python",
   "nbconvert_exporter": "python",
   "pygments_lexer": "ipython3",
   "version": "3.12.4"
  }
 },
 "nbformat": 4,
 "nbformat_minor": 5
}
