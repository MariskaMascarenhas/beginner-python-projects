{
 "cells": [
  {
   "cell_type": "code",
   "execution_count": 3,
   "id": "d88d092d-d158-4bf4-9867-12c89df712c7",
   "metadata": {},
   "outputs": [
    {
     "name": "stdin",
     "output_type": "stream",
     "text": [
      "Enter an adjective: pretty\n",
      "Enter a noun:  girl\n",
      "Enter a verb:  read\n"
     ]
    },
    {
     "name": "stdout",
     "output_type": "stream",
     "text": [
      "\n",
      "Here's your story:\n",
      "Once upon a time , there was a pretty girl who loved to read.\n"
     ]
    }
   ],
   "source": [
    "#Madlibs Game\n",
    "'''\n",
    "In this project, you'll create a simple \"fill-in-the-blanks\" game where the program prompts the user for different parts of speech (e.g., nouns, verbs, adjectives) and then inserts them into a story template.\n",
    "\n",
    "Pseudocode:\n",
    "Define a story template with placeholders for words.\n",
    "Ask the user to input words based on specified parts of speech.\n",
    "Replace placeholders in the story with the user's words.\n",
    "Print the complete story.\n",
    "Logic Explanation:\n",
    "This project uses a story template with placeholders for words. We replace each placeholder with user-provided words, creating a unique story based on their inputs.'''\n",
    "\n",
    "\n",
    "#step 1:Define the story template\n",
    "story_template=\"Once upon a time , there was a {adjective} {noun} who loved to {verb}.\"\n",
    "\n",
    "#Step 2:Get inputs from users\n",
    "adjective=input(\"Enter an adjective:\")\n",
    "noun=input(\"Enter a noun: \")\n",
    "verb=input(\"Enter a verb: \")\n",
    "\n",
    "story=story_template.format(adjective=adjective,noun=noun,verb=verb)\n",
    "\n",
    "print(\"\\nHere's your story:\")\n",
    "print(story)"
   ]
  },
  {
   "cell_type": "code",
   "execution_count": null,
   "id": "1c5156af-81b4-40df-9290-436d8fb13c0e",
   "metadata": {},
   "outputs": [],
   "source": []
  }
 ],
 "metadata": {
  "kernelspec": {
   "display_name": "Python 3 (ipykernel)",
   "language": "python",
   "name": "python3"
  },
  "language_info": {
   "codemirror_mode": {
    "name": "ipython",
    "version": 3
   },
   "file_extension": ".py",
   "mimetype": "text/x-python",
   "name": "python",
   "nbconvert_exporter": "python",
   "pygments_lexer": "ipython3",
   "version": "3.12.4"
  }
 },
 "nbformat": 4,
 "nbformat_minor": 5
}
