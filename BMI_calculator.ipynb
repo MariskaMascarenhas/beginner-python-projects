{
 "cells": [
  {
   "cell_type": "code",
   "execution_count": null,
   "id": "65f7dc7a-32bd-4c6d-8256-4386c18597c2",
   "metadata": {},
   "outputs": [],
   "source": [
    "#BMI Calculator\n",
    "'''Pseudocode:\n",
    "1.Prompts the user for height (in meters) and weight (in kilograms).\n",
    "2.Calculate BMI using BMI=weight/(height*height)\n",
    "3.Display BMI and health category\n",
    "'''\n",
    "\n",
    "height=float(input(\"Enter your height (in meters):\"))\n",
    "weight=float(input(\"Enter your weight (in kilograms):\"))\n",
    "BMI=weight/(height*height)\n",
    "\n",
    "print(f\"Your BMI is {BMI:.2f}\")\n",
    "\n",
    "if BMI<18.5:\n",
    "    print(\"Category:Underweight\")\n",
    "elif 18.5<=BMI<24.9:\n",
    "    print(\"Category:Normal weight\")\n",
    "elif 25<=BMI<29.9:\n",
    "    print(\"Category:Overweight\")\n",
    "else:\n",
    "    print(\"Category:Obesity\")\n",
    "    "
   ]
  },
  {
   "cell_type": "markdown",
   "id": "8b15f7e4-6513-462d-aeed-b043349f3793",
   "metadata": {},
   "source": [
    "# BMI Calculator\r\n",
    "\r\n",
    "## Description\r\n",
    "This calculator computes BMI (Body Mass Index) based on height and weight.\r\n",
    "\r\n",
    "## How to Use\r\n",
    "- Enter your height in meters.\r\n",
    "- Enter your weight in kilograms.\r\n",
    "- The program will calculate and display your BMI and category.\r\n",
    "\r\n",
    "## Requirements\r\n",
    "Python 3.x\r\n"
   ]
  },
  {
   "cell_type": "code",
   "execution_count": null,
   "id": "b67f9b20-d828-42fb-9dea-58af11a1f9c4",
   "metadata": {},
   "outputs": [],
   "source": []
  }
 ],
 "metadata": {
  "kernelspec": {
   "display_name": "Python 3 (ipykernel)",
   "language": "python",
   "name": "python3"
  },
  "language_info": {
   "codemirror_mode": {
    "name": "ipython",
    "version": 3
   },
   "file_extension": ".py",
   "mimetype": "text/x-python",
   "name": "python",
   "nbconvert_exporter": "python",
   "pygments_lexer": "ipython3",
   "version": "3.12.4"
  }
 },
 "nbformat": 4,
 "nbformat_minor": 5
}
