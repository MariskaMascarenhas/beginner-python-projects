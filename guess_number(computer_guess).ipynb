{
 "cells": [
  {
   "cell_type": "code",
   "execution_count": 1,
   "id": "ae9ca587-0adf-4cb0-89a3-e4d6d77044b9",
   "metadata": {},
   "outputs": [
    {
     "name": "stdout",
     "output_type": "stream",
     "text": [
      "Think of a number between 1 to 100 ,and I will try to guess it.\n",
      "My guess is :50\n"
     ]
    },
    {
     "name": "stdin",
     "output_type": "stream",
     "text": [
      "Is my guess too high (H), or too low (L),or correct(C)? L\n"
     ]
    },
    {
     "name": "stdout",
     "output_type": "stream",
     "text": [
      "My guess is :75\n"
     ]
    },
    {
     "name": "stdin",
     "output_type": "stream",
     "text": [
      "Is my guess too high (H), or too low (L),or correct(C)? L\n"
     ]
    },
    {
     "name": "stdout",
     "output_type": "stream",
     "text": [
      "My guess is :88\n"
     ]
    },
    {
     "name": "stdin",
     "output_type": "stream",
     "text": [
      "Is my guess too high (H), or too low (L),or correct(C)? L\n"
     ]
    },
    {
     "name": "stdout",
     "output_type": "stream",
     "text": [
      "My guess is :94\n"
     ]
    },
    {
     "name": "stdin",
     "output_type": "stream",
     "text": [
      "Is my guess too high (H), or too low (L),or correct(C)? H\n"
     ]
    },
    {
     "name": "stdout",
     "output_type": "stream",
     "text": [
      "My guess is :91\n"
     ]
    },
    {
     "name": "stdin",
     "output_type": "stream",
     "text": [
      "Is my guess too high (H), or too low (L),or correct(C)? H\n"
     ]
    },
    {
     "name": "stdout",
     "output_type": "stream",
     "text": [
      "My guess is :89\n"
     ]
    },
    {
     "name": "stdin",
     "output_type": "stream",
     "text": [
      "Is my guess too high (H), or too low (L),or correct(C)? L\n"
     ]
    },
    {
     "name": "stdout",
     "output_type": "stream",
     "text": [
      "My guess is :90\n"
     ]
    },
    {
     "name": "stdin",
     "output_type": "stream",
     "text": [
      "Is my guess too high (H), or too low (L),or correct(C)? C\n"
     ]
    },
    {
     "name": "stdout",
     "output_type": "stream",
     "text": [
      "Hooray! I guessed it correctly!\n"
     ]
    }
   ],
   "source": [
    "#Guess the number (computer guesses)\n",
    "'''\n",
    "In this game, the user thinks of a number within a specific range, and the computer tries to guess it. The user gives feedback if the guess is too high, too low, or correct.\n",
    "\n",
    "Pseudocode:\n",
    "Set the range (e.g., 1 to 100).\n",
    "The computer makes a guess.\n",
    "Ask the user if the guess is correct, too high, or too low.\n",
    "Adjust the guess based on feedback until the computer finds the number.\n",
    "Logic Explanation:\n",
    "Using a binary search approach, the computer can minimize the number of guesses. Each guess narrows down the range based on feedback.'''\n",
    "\n",
    "\n",
    "#Define range\n",
    "low=1\n",
    "high=100\n",
    "\n",
    "print(\"Think of a number between 1 to 100 ,and I will try to guess it.\")\n",
    "\n",
    "while True:\n",
    "    guess=(low+high)//2\n",
    "    print(f\"My guess is :{guess}\")\n",
    "\n",
    "    feedback=input(\"Is my guess too high (H), or too low (L),or correct(C)?\").upper()\n",
    "\n",
    "    if feedback=='H':\n",
    "        high=guess-1\n",
    "    elif feedback=='L':\n",
    "        low=guess+1\n",
    "    elif feedback=='C':\n",
    "        print(\"Hooray! I guessed it correctly!\")\n",
    "        break\n",
    "    else:\n",
    "        print(\"Invalid input.Please enter H,L,or C.\")"
   ]
  },
  {
   "cell_type": "code",
   "execution_count": null,
   "id": "ae6398de-aa68-449e-9939-aafa7c517839",
   "metadata": {},
   "outputs": [],
   "source": []
  }
 ],
 "metadata": {
  "kernelspec": {
   "display_name": "Python 3 (ipykernel)",
   "language": "python",
   "name": "python3"
  },
  "language_info": {
   "codemirror_mode": {
    "name": "ipython",
    "version": 3
   },
   "file_extension": ".py",
   "mimetype": "text/x-python",
   "name": "python",
   "nbconvert_exporter": "python",
   "pygments_lexer": "ipython3",
   "version": "3.12.4"
  }
 },
 "nbformat": 4,
 "nbformat_minor": 5
}
