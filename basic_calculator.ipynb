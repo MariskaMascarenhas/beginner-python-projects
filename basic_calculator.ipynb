{
 "cells": [
  {
   "cell_type": "code",
   "execution_count": 1,
   "id": "60e27408-6abd-4d1f-b2a6-225e1b5d925b",
   "metadata": {},
   "outputs": [
    {
     "name": "stdout",
     "output_type": "stream",
     "text": [
      "Select operation:\n",
      "1.Add:\n",
      "2.Subtract\n",
      "3.Multiply\n",
      "4.Divide\n"
     ]
    },
    {
     "name": "stdin",
     "output_type": "stream",
     "text": [
      "enter choice(1/2/3/4): 1\n",
      "Enter first number: 1\n",
      "Enter second number: 2\n"
     ]
    },
    {
     "name": "stdout",
     "output_type": "stream",
     "text": [
      "The result is:3.0\n"
     ]
    }
   ],
   "source": [
    "#Basic Calculator\n",
    "#Step 1:Define functions for each operation\n",
    "\n",
    "def add(x,y):\n",
    "    return x+y\n",
    "def subtract(x,y):\n",
    "    return x-y\n",
    "def multiply(x,y):\n",
    "    return x*y\n",
    "def divide(x,y):\n",
    "    if y==0:\n",
    "        return \"Cannot divide by zero\"\n",
    "    return x/y\n",
    "\n",
    "#Step2:Display options to the user\n",
    "print(\"Select operation:\")\n",
    "print(\"1.Add:\")\n",
    "print(\"2.Subtract\")\n",
    "print(\"3.Multiply\")\n",
    "print(\"4.Divide\")\n",
    "\n",
    "#Step3:Take input from the user\n",
    "choice=input(\"enter choice(1/2/3/4):\")\n",
    "\n",
    "#Step4:Check if the user input is valid\n",
    "if choice in ('1','2','3','4'):\n",
    "    num1=float(input(\"Enter first number:\"))\n",
    "    num2=float(input(\"Enter second number:\"))\n",
    "\n",
    "    #Step 5:Perform the chosen operation\n",
    "    if choice=='1':\n",
    "        print(f\"The result is:{add(num1,num2)}\")\n",
    "    elif choice=='2':\n",
    "        print(f\"The result is:{subtract(num1,num2)}\")\n",
    "    elif choice=='3':\n",
    "        print(f\"The result is:{multiply(num1,num2)}\")\n",
    "    elif choice=='4':\n",
    "        print(f\"The result is:{divide(num1,num2)}\")\n",
    "else:\n",
    "    print(\"Invalid input\")\n",
    "    \n",
    "\n",
    "\n",
    "\n",
    "\n",
    "\n",
    "\n",
    "\n"
   ]
  },
  {
   "cell_type": "markdown",
   "id": "51d49594-1505-4cd7-a907-18012b48e91c",
   "metadata": {},
   "source": [
    "# Basic Calculator\r\n",
    "\r\n",
    "## Description\r\n",
    "A simple calculator program in Python that performs basic arithmetic operations: addition, subtraction, multiplication, and division.\r\n",
    "\r\n",
    "## Features\r\n",
    "- Supports the following operations:\r\n",
    "  - Addition\r\n",
    "  - Subtraction\r\n",
    "  - Multiplication\r\n",
    "  - Division (with error handling for division by zero)\r\n",
    "- User-friendly interface with a prompt for operation selection.\r\n",
    "\r\n",
    "## Code Explanation\r\n",
    "The program is divided into several steps:\r\n",
    "\r\n",
    "1. **Define functions for each operation**:\r\n",
    "   - `add(x, y)`: Returns the sum of `x` and `y`.\r\n",
    "   - `subtract(x, y)`: Returns the difference when `y` is subtracted from `x`.\r\n",
    "   - `multiply(x, y)`: Returns the product of `x` and `y`.\r\n",
    "   - `divide(x, y)`: Returns the division of `x` by `y` and handles division by zero.\r\n",
    "\r\n",
    "2. **Display options to the user**:\r\n",
    "   The program prints the list of operations available and prompts the user to select one.\r\n",
    "\r\n",
    "3. **Take input from the user**:\r\n",
    "   - The user enters the operation choice (1, 2, 3, or 4) and the two numbers for the calculation.\r\n",
    "\r\n",
    "4. **Validate input and perform the chosen operation**:\r\n",
    "   - If the input is valid, the program calls the appropriate function and displays the result.\r\n",
    "   - If the choice is invalid, an error message is displayed.\r\n",
    "\r\n",
    "## Usage\r\n",
    "1. Run the program.\r\n",
    "2. Select an operation by entering its corresponding number (1, 2, 3, or 4).\r\n",
    "3. Enter the first and second numbers when prompted.\r\n",
    "4. The program will display the result of the operation.\r\n",
    "\r\n",
    "## Example\r\n",
    "```python\r\n",
    "# Sample Output\r\n",
    "Select operation:\r\n",
    "1.Add:\r\n",
    "2.Subtract\r\n",
    "3.Multiply\r\n",
    "4.Divide\r\n",
    "enter choice(1/2/3/4): 1\r\n",
    "Enter first number: 10\r\n",
    "Enter second number: 5\r\n",
    "The result is: 15.0\r\n"
   ]
  },
  {
   "cell_type": "code",
   "execution_count": null,
   "id": "20b00262-82d9-453a-a7ed-ee806dfd3732",
   "metadata": {},
   "outputs": [],
   "source": []
  }
 ],
 "metadata": {
  "kernelspec": {
   "display_name": "Python 3 (ipykernel)",
   "language": "python",
   "name": "python3"
  },
  "language_info": {
   "codemirror_mode": {
    "name": "ipython",
    "version": 3
   },
   "file_extension": ".py",
   "mimetype": "text/x-python",
   "name": "python",
   "nbconvert_exporter": "python",
   "pygments_lexer": "ipython3",
   "version": "3.12.4"
  }
 },
 "nbformat": 4,
 "nbformat_minor": 5
}
