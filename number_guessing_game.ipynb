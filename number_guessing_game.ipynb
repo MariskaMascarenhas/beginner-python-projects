{
 "cells": [
  {
   "cell_type": "code",
   "execution_count": 4,
   "id": "ce11c1e6-a91e-40e9-b676-022acf3ac4c4",
   "metadata": {},
   "outputs": [
    {
     "name": "stdin",
     "output_type": "stream",
     "text": [
      "Guess a number between 1 to 100: 80\n"
     ]
    },
    {
     "name": "stdout",
     "output_type": "stream",
     "text": [
      "Too high! Try again.\n"
     ]
    },
    {
     "name": "stdin",
     "output_type": "stream",
     "text": [
      "Guess a number between 1 to 100: 70\n"
     ]
    },
    {
     "name": "stdout",
     "output_type": "stream",
     "text": [
      "Too high! Try again.\n"
     ]
    },
    {
     "name": "stdin",
     "output_type": "stream",
     "text": [
      "Guess a number between 1 to 100: 60\n"
     ]
    },
    {
     "name": "stdout",
     "output_type": "stream",
     "text": [
      "Too high! Try again.\n"
     ]
    },
    {
     "name": "stdin",
     "output_type": "stream",
     "text": [
      "Guess a number between 1 to 100: 50\n"
     ]
    },
    {
     "name": "stdout",
     "output_type": "stream",
     "text": [
      "Too high! Try again.\n"
     ]
    },
    {
     "name": "stdin",
     "output_type": "stream",
     "text": [
      "Guess a number between 1 to 100: 40\n"
     ]
    },
    {
     "name": "stdout",
     "output_type": "stream",
     "text": [
      "Too high! Try again.\n"
     ]
    },
    {
     "name": "stdin",
     "output_type": "stream",
     "text": [
      "Guess a number between 1 to 100: 30\n"
     ]
    },
    {
     "name": "stdout",
     "output_type": "stream",
     "text": [
      "Too low!Try again.\n"
     ]
    },
    {
     "name": "stdin",
     "output_type": "stream",
     "text": [
      "Guess a number between 1 to 100: 35\n"
     ]
    },
    {
     "name": "stdout",
     "output_type": "stream",
     "text": [
      "Too high! Try again.\n"
     ]
    },
    {
     "name": "stdin",
     "output_type": "stream",
     "text": [
      "Guess a number between 1 to 100: 34\n"
     ]
    },
    {
     "name": "stdout",
     "output_type": "stream",
     "text": [
      "Congratulations! You guessed the number in 8 attempts.\n"
     ]
    }
   ],
   "source": [
    "#Number Guessing Game\n",
    "import random\n",
    "\n",
    "#Step 1:Define the range and generate a random number\n",
    "number_to_guess=random.randint(1,100)\n",
    "\n",
    "#Step 2:Initialize attempts\n",
    "attempts=0\n",
    "\n",
    "#Step3:Create the guessing loop\n",
    "while True:\n",
    "    guess=int(input(\"Guess a number between 1 to 100:\"))\n",
    "    attempts+=1\n",
    "\n",
    "    #Step 4:Check if the guess is correct,too high,or too low\n",
    "    if guess<number_to_guess:\n",
    "        print(\"Too low!Try again.\")\n",
    "    elif guess>number_to_guess:\n",
    "        print(\"Too high! Try again.\")\n",
    "    elif guess==number_to_guess:\n",
    "        print(f\"Congratulations! You guessed the number in {attempts} attempts.\")\n",
    "        break"
   ]
  },
  {
   "cell_type": "markdown",
   "id": "2ec617e2-bf43-4734-8ca0-fd9b9cfd4f67",
   "metadata": {},
   "source": [
    "# Number Guessing Game\r\n",
    "\r\n",
    "This is a Python program for a **Number Guessing Game**. In this game, the computer randomly selects a number between 1 and 100, and the player tries to guess it. The program provides feedback if the guess is too high, too low, or correct. It also tracks the number of attempts the player takes to guess correctly.\r\n",
    "\r\n",
    "## How It Works\r\n",
    "\r\n",
    "1. The program selects a random number between 1 and 100 using the `random.randint()` function.\r\n",
    "2. The player is prompted to guess the number.\r\n",
    "3. For each guess:\r\n",
    "   - If the guess is too low, the program outputs **\"Too low! Try again.\"**\r\n",
    "   - If the guess is too high, the program outputs **\"Too high! Try again.\"**\r\n",
    "   - If the guess is correct, the program outputs **\"Congratulations! You guessed the number in X attempts.\"** and ends the game.\r\n",
    "4. The program counts the number of attempts and displays it when the player wins.\r\n",
    "\r\n",
    "## How to Play\r\n",
    "\r\n",
    "1. Run the program in a Python environment.\r\n",
    "2. Enter a number between 1 and 100 when prompted.\r\n",
    "3. Continue guessing until you receive the **\"Congratulations!\"** message.\r\n",
    "\r\n",
    "## Code Overview\r\n",
    "\r\n",
    "- **`random.randint(1, 100)`**\r\n"
   ]
  },
  {
   "cell_type": "code",
   "execution_count": null,
   "id": "545e67b0-0f96-4d31-8c52-78f2965f4282",
   "metadata": {},
   "outputs": [],
   "source": []
  }
 ],
 "metadata": {
  "kernelspec": {
   "display_name": "Python 3 (ipykernel)",
   "language": "python",
   "name": "python3"
  },
  "language_info": {
   "codemirror_mode": {
    "name": "ipython",
    "version": 3
   },
   "file_extension": ".py",
   "mimetype": "text/x-python",
   "name": "python",
   "nbconvert_exporter": "python",
   "pygments_lexer": "ipython3",
   "version": "3.12.4"
  }
 },
 "nbformat": 4,
 "nbformat_minor": 5
}
