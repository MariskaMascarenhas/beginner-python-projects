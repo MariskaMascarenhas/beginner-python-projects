{
 "cells": [
  {
   "cell_type": "code",
   "execution_count": 10,
   "id": "ab2b335d-03ad-4846-a6d1-30ba4762b72c",
   "metadata": {},
   "outputs": [
    {
     "name": "stdin",
     "output_type": "stream",
     "text": [
      "Enter password length: 2\n"
     ]
    },
    {
     "name": "stdout",
     "output_type": "stream",
     "text": [
      "Generated password: %X\n"
     ]
    }
   ],
   "source": [
    "#Random Password Generator\n",
    "\n",
    "import random \n",
    "import string\n",
    "\n",
    "#Step1:Define the function\n",
    "def generate_password(length=8):\n",
    "    #Step 2:Define characters\n",
    "    characters=string.ascii_letters+string.digits+string.punctuation\n",
    "    #Step 3:Generate a random password\n",
    "    password=''.join(random.choice(characters) for _ in range(length))\n",
    "    return password\n",
    "\n",
    "#Step 4:Prompt user for password length\n",
    "length=int(input(\"Enter password length:\"))\n",
    "\n",
    "#Step 5:Generate and display the password\n",
    "print(\"Generated password:\",generate_password(length))"
   ]
  },
  {
   "cell_type": "markdown",
   "id": "3e1f4c43-8f34-4b45-a160-03e5accf7596",
   "metadata": {},
   "source": [
    "# Password Generator\r\n",
    "\r\n",
    "This is a simple Python program that generates a random password based on the specified length. The generated password includes uppercase letters, lowercase letters, numbers, and special characters.\r\n",
    "\r\n",
    "## Project Overview\r\n",
    "\r\n",
    "This project demonstrates the basics of:\r\n",
    "- Random selection of characters.\r\n",
    "- Using Python libraries `random` and `string`.\r\n",
    "- Building functions in Python.\r\n",
    "  \r\n",
    "This password generator is a great starter project for Python beginners and is designed to be customizable in terms of password length.\r\n",
    "\r\n",
    "## Features\r\n",
    "\r\n",
    "- Allows user to specify the password length.\r\n",
    "- Generates a random password that includes letters (both uppercase and lowercase), numbers, and special characters.\r\n",
    "- Provides a basic understanding of using the `random` and `string` libraries in Python.\r\n",
    "\r\n",
    "## Usage\r\n",
    "\r\n",
    "1. Run the program.\r\n",
    "2. Enter the desired password length when prompted.\r\n",
    "3. A randomly generated password will be displayed.\r\n",
    "\r\n",
    "## Code Explanation\r\n",
    "\r\n",
    "### Libraries Used\r\n",
    "\r\n",
    "- `random`: Used to select random characters for the password.\r\n",
    "- `string`: Provides a set of characters (letters, digits, punctuation) used in password generation.\r\n",
    "\r\n",
    "### Function Definition\r\n",
    "\r\n",
    "```python\r\n",
    "def generate_password(length=8):\r\n",
    "    characters = string.ascii_letters + string.digits + string.punctuation\r\n",
    "    password = ''.join(random.choice(characters) for _ in range(length))\r\n",
    "    return password\r\n"
   ]
  },
  {
   "cell_type": "code",
   "execution_count": null,
   "id": "933b6e18-3e26-4c39-a0a0-889e95ca3d44",
   "metadata": {},
   "outputs": [],
   "source": []
  }
 ],
 "metadata": {
  "kernelspec": {
   "display_name": "Python 3 (ipykernel)",
   "language": "python",
   "name": "python3"
  },
  "language_info": {
   "codemirror_mode": {
    "name": "ipython",
    "version": 3
   },
   "file_extension": ".py",
   "mimetype": "text/x-python",
   "name": "python",
   "nbconvert_exporter": "python",
   "pygments_lexer": "ipython3",
   "version": "3.12.4"
  }
 },
 "nbformat": 4,
 "nbformat_minor": 5
}
