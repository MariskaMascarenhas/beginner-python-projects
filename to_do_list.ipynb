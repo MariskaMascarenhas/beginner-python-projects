{
 "cells": [
  {
   "cell_type": "code",
   "execution_count": 8,
   "id": "abe4c4ab-2703-4dd6-a15c-c33ad6a08048",
   "metadata": {},
   "outputs": [
    {
     "name": "stdout",
     "output_type": "stream",
     "text": [
      "\n",
      "Choose an option:\n",
      "1. Add task\n",
      "2. View tasks\n",
      "3. Remove task\n",
      "4. Quit\n"
     ]
    },
    {
     "name": "stdin",
     "output_type": "stream",
     "text": [
      "Enter your choice:  4\n"
     ]
    },
    {
     "name": "stdout",
     "output_type": "stream",
     "text": [
      "Goodbye!\n"
     ]
    }
   ],
   "source": [
    "# Step 1: Define an empty list for tasks\n",
    "tasks = []\n",
    "\n",
    "# Step 2: Define function to display menu\n",
    "def display_menu():\n",
    "    print(\"\\nChoose an option:\")\n",
    "    print(\"1. Add task\")\n",
    "    print(\"2. View tasks\")\n",
    "    print(\"3. Remove task\")\n",
    "    print(\"4. Quit\")\n",
    "\n",
    "# Step 3: Create the main program loop\n",
    "while True:\n",
    "    display_menu()\n",
    "    choice = input(\"Enter your choice: \")\n",
    "\n",
    "    # Step 4: Add a task\n",
    "    if choice == '1':\n",
    "        task = input(\"Enter the task: \")\n",
    "        tasks.append(task)\n",
    "        print(\"Task added.\")\n",
    "\n",
    "    # Step 5: View tasks\n",
    "    elif choice == '2':\n",
    "        if tasks:\n",
    "            print(\"\\nYour tasks:\")\n",
    "            for index, task in enumerate(tasks, 1):\n",
    "                print(f\"{index}. {task}\")\n",
    "        else:\n",
    "            print(\"No tasks yet.\")\n",
    "\n",
    "    # Step 6: Remove a task\n",
    "    elif choice == '3':\n",
    "        if tasks:\n",
    "            for index, task in enumerate(tasks, 1):\n",
    "                print(f\"{index}. {task}\")\n",
    "            task_num = int(input(\"Enter the task number to remove: \"))\n",
    "            if 1 <= task_num <= len(tasks):\n",
    "                removed_task = tasks.pop(task_num - 1)\n",
    "                print(f\"Removed task: {removed_task}\")\n",
    "            else:\n",
    "                print(\"Invalid task number.\")\n",
    "        else:\n",
    "            print(\"No tasks to remove.\")\n",
    "\n",
    "    # Step 7: Quit\n",
    "    elif choice == '4':\n",
    "        print(\"Goodbye!\")\n",
    "        break\n",
    "    else:\n",
    "        print(\"Invalid choice, please try again.\")\n"
   ]
  },
  {
   "cell_type": "markdown",
   "id": "8aa2ffd3-3696-41ce-9dee-b1599e2093b4",
   "metadata": {},
   "source": [
    "# To-Do List Program\r\n",
    "\r\n",
    "This is a Python program for managing a simple to-do list. It allows users to:\r\n",
    "1. Add tasks to their list\r\n",
    "2. View all ta3.s\r\n",
    "3. Remove specific t4sks\r\n",
    "4. Quit the program\r\n",
    "\r\n",
    "## Features\r\n",
    "\r\n",
    "- **Add Task**: Users can add a new task, which gets saved in a list.\r\n",
    "- **View Tasks**: Users can view all the tasks they've added.\r\n",
    "- **Remove Task**: Users can delete a specific task by its number.\r\n",
    "- **Quit**: Exit the program when finished.\r\n",
    "\r\n",
    "## How to Use\r\n",
    "\r\n",
    "1. Run the program.\r\n",
    "2. Choose an option from the displayed menu:\r\n",
    "   - **1**: Add a new task by typing it in.\r\n",
    "   - **2**: View all tasks in the list.\r\n",
    "   - **3**: Remove a specific task by entering its number.\r\n",
    "   - **4**: Quit the program.\r\n",
    "\r\n",
    "## Code Explanation\r\n",
    "\r\n",
    "- **`tasks = []`**: Initializes an empty list to store tasks.\r\n",
    "- **`display_menu()`**: Function that displays the options menu to the user.\r\n",
    "- **Loop**: The main loop keeps running until the user chooses to quit.\r\n",
    "- **Conditions**:\r\n",
    "  - If the user inputs **1**, they can add a task.\r\n",
    "  - If **2**, the program displays all tasks.\r\n",
    "  - If **3**, the program asks for a task number to remove and deletes it if valid.\r\n",
    "  - If **4**, the program exits.\r\n",
    "\r\n",
    "## Example Usage\r\n",
    "\r\n"
   ]
  },
  {
   "cell_type": "code",
   "execution_count": null,
   "id": "680c054d-d52f-47f6-90b4-079263ca4698",
   "metadata": {},
   "outputs": [],
   "source": []
  }
 ],
 "metadata": {
  "kernelspec": {
   "display_name": "Python 3 (ipykernel)",
   "language": "python",
   "name": "python3"
  },
  "language_info": {
   "codemirror_mode": {
    "name": "ipython",
    "version": 3
   },
   "file_extension": ".py",
   "mimetype": "text/x-python",
   "name": "python",
   "nbconvert_exporter": "python",
   "pygments_lexer": "ipython3",
   "version": "3.12.4"
  }
 },
 "nbformat": 4,
 "nbformat_minor": 5
}
