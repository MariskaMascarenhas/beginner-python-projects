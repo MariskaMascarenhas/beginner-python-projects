{
 "cells": [
  {
   "cell_type": "code",
   "execution_count": 10,
   "id": "56f014e8-8668-4790-b2e6-81dba74e5e6b",
   "metadata": {},
   "outputs": [
    {
     "name": "stdin",
     "output_type": "stream",
     "text": [
      "Choose rock,paper, or scissors as your input: rek\n"
     ]
    },
    {
     "name": "stdout",
     "output_type": "stream",
     "text": [
      "Computer chooses :paper\n",
      "You Loose ! Computer wins!\n"
     ]
    }
   ],
   "source": [
    "#Rock Paper Scissors\n",
    "'''\n",
    "This is a game between the user and the computer, where each chooses Rock, Paper, or Scissors. The program then decides who wins based on the rules of the game.\n",
    "\n",
    "Pseudocode:\n",
    "Define possible moves (Rock, Paper, Scissors).\n",
    "Get the user’s choice and randomly generate the computer’s choice.\n",
    "Compare choices to determine the winner.\n",
    "Display the results.\n",
    "Logic Explanation:\n",
    "The project relies on basic conditionals to check the winner based on Rock, Paper, and Scissors rules.'''\n",
    "\n",
    "import random\n",
    "\n",
    "#Define choices\n",
    "choices=[\"rock\",\"paper\",\"scissors\"]\n",
    "\n",
    "#Get user input and computer choice\n",
    "user_choice=input(\"Choose rock,paper, or scissors as your input:\").lower()\n",
    "computer_choice=random.choice(choices)\n",
    "\n",
    "print(f\"Computer chooses :{computer_choice}\")\n",
    "\n",
    "if user_choice==computer_choice:\n",
    "    print(\"It's a tie!\")\n",
    "elif (user_choice==\"rock\" and computer_choice==\"scissors\") or\\\n",
    "(user_choice==\"paper\" and computer_choice==\"rock\") or\\\n",
    "(user_choice==\"scissors\" and computer_choice==\"paper\"):\n",
    "    print(\"You win!\")\n",
    "else:\n",
    "    print(\"You Loose ! Computer wins!\")"
   ]
  },
  {
   "cell_type": "code",
   "execution_count": null,
   "id": "9e2252bf-a54d-4479-aeff-d197104c228a",
   "metadata": {},
   "outputs": [],
   "source": []
  }
 ],
 "metadata": {
  "kernelspec": {
   "display_name": "Python 3 (ipykernel)",
   "language": "python",
   "name": "python3"
  },
  "language_info": {
   "codemirror_mode": {
    "name": "ipython",
    "version": 3
   },
   "file_extension": ".py",
   "mimetype": "text/x-python",
   "name": "python",
   "nbconvert_exporter": "python",
   "pygments_lexer": "ipython3",
   "version": "3.12.4"
  }
 },
 "nbformat": 4,
 "nbformat_minor": 5
}
