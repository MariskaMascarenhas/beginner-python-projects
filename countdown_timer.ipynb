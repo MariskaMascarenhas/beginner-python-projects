{
 "cells": [
  {
   "cell_type": "code",
   "execution_count": null,
   "id": "a41c9381-67da-4f59-9cda-9a70f386222c",
   "metadata": {},
   "outputs": [
    {
     "name": "stdin",
     "output_type": "stream",
     "text": [
      "Enter countdown duration (in seconds): 10\n"
     ]
    },
    {
     "name": "stdout",
     "output_type": "stream",
     "text": [
      "Time remaining:10 seconds\n",
      "Time remaining:9 seconds\n",
      "Time remaining:8 seconds\n",
      "Time remaining:7 seconds\n",
      "Time remaining:6 seconds\n",
      "Time remaining:5 seconds\n",
      "Time remaining:4 seconds\n",
      "Time remaining:3 seconds\n",
      "Time remaining:2 seconds\n",
      "Time remaining:1 seconds\n",
      "Time remaining:0 seconds\n",
      "Time remaining:-1 seconds\n",
      "Time remaining:-2 seconds\n",
      "Time remaining:-3 seconds\n",
      "Time remaining:-4 seconds\n",
      "Time remaining:-5 seconds\n",
      "Time remaining:-6 seconds\n",
      "Time remaining:-7 seconds\n",
      "Time remaining:-8 seconds\n",
      "Time remaining:-9 seconds\n",
      "Time remaining:-10 seconds\n",
      "Time remaining:-11 seconds\n",
      "Time remaining:-12 seconds\n",
      "Time remaining:-13 seconds\n",
      "Time remaining:-14 seconds\n",
      "Time remaining:-15 seconds\n",
      "Time remaining:-16 seconds\n",
      "Time remaining:-17 seconds\n",
      "Time remaining:-18 seconds\n",
      "Time remaining:-19 seconds\n"
     ]
    }
   ],
   "source": [
    "#Countdown Timer\n",
    "import time\n",
    "seconds=int(input(\"Enter countdown duration (in seconds):\"))\n",
    "while True:\n",
    "    print(f\"Time remaining:{seconds} seconds\")\n",
    "    time.sleep(1)\n",
    "    seconds-=1\n",
    "print(\"Time's up!\")"
   ]
  },
  {
   "cell_type": "markdown",
   "id": "0af925b8-329d-4d4a-9ced-8005ffa561f2",
   "metadata": {},
   "source": [
    "# Countdown Timer\n",
    "\n",
    "A countdown timer script in Python that counts down in seconds.\n",
    "\n",
    "## Usage\n",
    "Input the number of seconds for the countdown, and the program will display remaining time.\n"
   ]
  },
  {
   "cell_type": "code",
   "execution_count": null,
   "id": "34ebb7e2-ea46-4aea-9313-79144d996eeb",
   "metadata": {},
   "outputs": [],
   "source": []
  }
 ],
 "metadata": {
  "kernelspec": {
   "display_name": "Python 3 (ipykernel)",
   "language": "python",
   "name": "python3"
  },
  "language_info": {
   "codemirror_mode": {
    "name": "ipython",
    "version": 3
   },
   "file_extension": ".py",
   "mimetype": "text/x-python",
   "name": "python",
   "nbconvert_exporter": "python",
   "pygments_lexer": "ipython3",
   "version": "3.12.4"
  }
 },
 "nbformat": 4,
 "nbformat_minor": 5
}
